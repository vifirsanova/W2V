{
  "nbformat": 4,
  "nbformat_minor": 0,
  "metadata": {
    "colab": {
      "name": "Firsanova_W2V_zachet.ipynb",
      "provenance": [],
      "collapsed_sections": [],
      "authorship_tag": "ABX9TyPE0OXe3K0avJjRhrS43qe/",
      "include_colab_link": true
    },
    "kernelspec": {
      "name": "python3",
      "display_name": "Python 3"
    },
    "language_info": {
      "name": "python"
    }
  },
  "cells": [
    {
      "cell_type": "markdown",
      "metadata": {
        "id": "view-in-github",
        "colab_type": "text"
      },
      "source": [
        "<a href=\"https://colab.research.google.com/github/vifirsanova/W2V/blob/main/Firsanova_W2V_zachet.ipynb\" target=\"_parent\"><img src=\"https://colab.research.google.com/assets/colab-badge.svg\" alt=\"Open In Colab\"/></a>"
      ]
    },
    {
      "cell_type": "markdown",
      "source": [
        "Автор: [Виктория Фирсанова](https://github.com/vifirsanova)"
      ],
      "metadata": {
        "id": "0mRvp1EcAOMz"
      }
    },
    {
      "cell_type": "markdown",
      "source": [
        "# Загрузка библиотек"
      ],
      "metadata": {
        "id": "nCRdNrpv_fHY"
      }
    },
    {
      "cell_type": "code",
      "execution_count": 1,
      "metadata": {
        "colab": {
          "base_uri": "https://localhost:8080/"
        },
        "id": "BSv7ijDW_Xgq",
        "outputId": "13c92042-32ae-4435-f3e0-1758c437e63e"
      },
      "outputs": [
        {
          "output_type": "stream",
          "name": "stdout",
          "text": [
            "Collecting colorama\n",
            "  Downloading colorama-0.4.4-py2.py3-none-any.whl (16 kB)\n",
            "Installing collected packages: colorama\n",
            "Successfully installed colorama-0.4.4\n"
          ]
        }
      ],
      "source": [
        "# библиотека для цветного вывода\n",
        "!pip install colorama"
      ]
    },
    {
      "cell_type": "code",
      "source": [
        "from colorama import Fore, Style # цветной вывод\n",
        "import json # работа с javascript object notation\n",
        "import random # случайное перемешивание"
      ],
      "metadata": {
        "id": "VX-45hhkAT_7"
      },
      "execution_count": 7,
      "outputs": []
    },
    {
      "cell_type": "code",
      "source": [
        ""
      ],
      "metadata": {
        "id": "muSPa7PLGLtB"
      },
      "execution_count": 26,
      "outputs": []
    },
    {
      "cell_type": "markdown",
      "source": [
        "# Загрузка корпуса\n",
        "\n",
        "* [Корпус новостей газеты Московский комсомолец за 2020-2021 года.](https://github.com/vifirsanova/W2V/blob/main/corpus.json) \n",
        "\n",
        "* Собран автором в рамках семинарских занятий.\n",
        "\n",
        "* Корпус загружен на GitHub с помощью терминала git с помощью следующего кода:\n",
        "\n",
        "```\n",
        "git clone git@github.com:vifirsanova/W2V.git\n",
        "cd w2v\n",
        "git add corpus.json\n",
        "git commit -m \"Add file\"\n",
        "git push\n",
        "```\n",
        "\n"
      ],
      "metadata": {
        "id": "9KZrpO2KAdfs"
      }
    },
    {
      "cell_type": "code",
      "source": [
        "# подгружаем корпус из GitHub\n",
        "!wget https://raw.githubusercontent.com/vifirsanova/W2V/main/corpus.json"
      ],
      "metadata": {
        "colab": {
          "base_uri": "https://localhost:8080/"
        },
        "id": "Clf1EiNSAX5k",
        "outputId": "a7df0b5b-e724-4d70-e2c6-0c6f8ff2f7fe"
      },
      "execution_count": 5,
      "outputs": [
        {
          "output_type": "stream",
          "name": "stdout",
          "text": [
            "--2021-12-13 09:11:20--  https://raw.githubusercontent.com/vifirsanova/W2V/main/corpus.json\n",
            "Resolving raw.githubusercontent.com (raw.githubusercontent.com)... 185.199.108.133, 185.199.109.133, 185.199.110.133, ...\n",
            "Connecting to raw.githubusercontent.com (raw.githubusercontent.com)|185.199.108.133|:443... connected.\n",
            "HTTP request sent, awaiting response... 200 OK\n",
            "Length: 92111843 (88M) [text/plain]\n",
            "Saving to: ‘corpus.json’\n",
            "\n",
            "corpus.json         100%[===================>]  87.84M   152MB/s    in 0.6s    \n",
            "\n",
            "2021-12-13 09:11:21 (152 MB/s) - ‘corpus.json’ saved [92111843/92111843]\n",
            "\n"
          ]
        }
      ]
    },
    {
      "cell_type": "code",
      "source": [
        "# сохраняем корпус в переменную\n",
        "with open('corpus.json', encoding='utf-8', newline='') as json_file:\n",
        "    data = json.load(json_file)"
      ],
      "metadata": {
        "id": "AOw-6FhPAysH"
      },
      "execution_count": 8,
      "outputs": []
    },
    {
      "cell_type": "code",
      "source": [
        "# образец данных корпуса\n",
        "print(f\"{Fore.RED}Образец данных корпуса:\\n\")\n",
        "data['data'][0]"
      ],
      "metadata": {
        "colab": {
          "base_uri": "https://localhost:8080/"
        },
        "id": "YV3Qkx4KECYa",
        "outputId": "15094fcf-28d2-4823-b3f8-6ae830f54339"
      },
      "execution_count": 24,
      "outputs": [
        {
          "output_type": "stream",
          "name": "stdout",
          "text": [
            "\u001b[31mОбразец данных корпуса:\n",
            "\n"
          ]
        },
        {
          "output_type": "execute_result",
          "data": {
            "text/plain": [
              "{'date': '31.03.2020',\n",
              " 'link': 'https://www.mk.ru/social/2020/03/31/minobrnauki-pereneslo-vstupitelnye-ekzameny-v-vuzy-izza-koronavirusa.html',\n",
              " 'rubric': 'Общество',\n",
              " 'text': '\\nВ Минобрнауки РФ приняли решение перенести даты вступительных экзаменов в вузы из-за коронавируса, заявил глава ведомства Валерий Фальков в интервью «Россия 24».\\nОн отметил, что в этом году число бюджетных мест было увеличено на 34 тысячи. Сейчас начался экономический спад, но менять стратегию в министерстве не намерены.\\nРешение об увеличении бюджетных мест в вузах связано с ростом числа выпускников школ. Будет увеличено число мест на педагогическом и медицинском направлениях. Большой запрос на бюджетные места у регионов, подчеркнул Фальков.\\nРанее власти перенесли даты ЕГЭ и ОГЭ.\\nЧитайте также:\\xa0Скворцова похвалила российский препарат от коронавируса\\n\\xa0\\n\\n',\n",
              " 'time': '09:11',\n",
              " 'title': 'Минобрнауки решило перенести вступительные экзамены в вузы из-за коронавируса'}"
            ]
          },
          "metadata": {},
          "execution_count": 24
        }
      ]
    },
    {
      "cell_type": "code",
      "source": [
        "# собираем тексты из корпуса\n",
        "full_dataset = []\n",
        "\n",
        "for elem in data['data']:\n",
        "    full_dataset.append(elem['text'])\n",
        "\n",
        "# случайное перемешивание данных\n",
        "random.shuffle(full_dataset)\n",
        "\n",
        "# деление на обучающую (80% данных) и проверочную (20% данных) выборку\n",
        "TRAIN_VAL_SPLIT = int(len(full_dataset) * 0.8)\n",
        "train = full_dataset[:TRAIN_VAL_SPLIT]\n",
        "val = full_dataset[TRAIN_VAL_SPLIT:]\n",
        "\n",
        "print(f\"{Fore.RED}Образец текста из выборки:{Style.RESET_ALL}\\n\", ''.join(train[0]))\n",
        "print(f\"{Fore.RED}Размер обучающей выборки:{Style.RESET_ALL} {len(train)} новостей, {sum([len(x.split()) for x in train])} слов, {sum([len(x) for x in train])} символов\\\n",
        "\\n{Fore.RED}Размер проверочной выборки:{Style.RESET_ALL} {len(val)} новостей, {sum([len(x.split()) for x in val])} слов, {sum([len(x) for x in val])} символов\")"
      ],
      "metadata": {
        "colab": {
          "base_uri": "https://localhost:8080/"
        },
        "id": "S-P3jY-tEVxT",
        "outputId": "b4a12af5-f2db-42db-a45a-de13e3b45021"
      },
      "execution_count": 46,
      "outputs": [
        {
          "output_type": "stream",
          "name": "stdout",
          "text": [
            "\u001b[31mОбразец текста из выборки:\u001b[0m\n",
            " \n",
            "Саморегулируемые организации кадастровых инженеров получили право направлять необходимые сведения в Росреестр только в электронном виде с помощью соответствующего сервиса. Как сообщили в пресс-службе Росреестра сообщили, что это позволит существенно упростить схему работы и порядок взаимодействия с кадастровыми инженерами.\n",
            "Для работы в доработанном и модернизированном сервисе \"Реестры СРО\" уполномоченным лицам достаточно пройти регистрацию в Единой системе идентификации и аутентификации.\n",
            "Также в соответствии с новыми правилами саморегулируемые организации более не обязаны представлять в Росреестр сведения о наличии у кадастрового инженера высшего образования, о прохождении стажировки, сдаче экзамена, об обучении по программе переподготовки и о судимости. Вся эта информация размещается на сайтах саморегулируемых организаций.\n",
            "\n",
            "\n",
            "\u001b[31mРазмер обучающей выборки:\u001b[0m 36736 новостей, 3867732 слов, 37104039 символов\n",
            "\u001b[31mРазмер проверочной выборки:\u001b[0m 9184 новостей, 982276 слов, 9444145 символов\n"
          ]
        }
      ]
    },
    {
      "cell_type": "code",
      "source": [
        ""
      ],
      "metadata": {
        "id": "d6r29lWYG48c"
      },
      "execution_count": null,
      "outputs": []
    }
  ]
}