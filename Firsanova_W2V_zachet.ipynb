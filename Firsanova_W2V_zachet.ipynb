{
  "nbformat": 4,
  "nbformat_minor": 0,
  "metadata": {
    "colab": {
      "name": "Firsanova_W2V_zachet.ipynb",
      "provenance": [],
      "collapsed_sections": [],
      "toc_visible": true,
      "authorship_tag": "ABX9TyMio4r+tNWKu0+RYYANEFOF",
      "include_colab_link": true
    },
    "kernelspec": {
      "name": "python3",
      "display_name": "Python 3"
    },
    "language_info": {
      "name": "python"
    }
  },
  "cells": [
    {
      "cell_type": "markdown",
      "metadata": {
        "id": "view-in-github",
        "colab_type": "text"
      },
      "source": [
        "<a href=\"https://colab.research.google.com/github/vifirsanova/W2V/blob/main/Firsanova_W2V_zachet.ipynb\" target=\"_parent\"><img src=\"https://colab.research.google.com/assets/colab-badge.svg\" alt=\"Open In Colab\"/></a>"
      ]
    },
    {
      "cell_type": "markdown",
      "source": [
        "Автор: [Виктория Фирсанова](https://github.com/vifirsanova)\n",
        "\n",
        "[Репозиторий](https://github.com/vifirsanova/W2V)"
      ],
      "metadata": {
        "id": "0mRvp1EcAOMz"
      }
    },
    {
      "cell_type": "markdown",
      "source": [
        "# Загрузка библиотек"
      ],
      "metadata": {
        "id": "nCRdNrpv_fHY"
      }
    },
    {
      "cell_type": "code",
      "execution_count": 1,
      "metadata": {
        "colab": {
          "base_uri": "https://localhost:8080/"
        },
        "id": "BSv7ijDW_Xgq",
        "outputId": "275ece9e-7acd-4d4d-b26e-51300ca6a92a"
      },
      "outputs": [
        {
          "output_type": "stream",
          "name": "stdout",
          "text": [
            "Collecting colorama\n",
            "  Downloading colorama-0.4.4-py2.py3-none-any.whl (16 kB)\n",
            "Installing collected packages: colorama\n",
            "Successfully installed colorama-0.4.4\n"
          ]
        }
      ],
      "source": [
        "# библиотека для цветного вывода\n",
        "!pip install colorama"
      ]
    },
    {
      "cell_type": "code",
      "source": [
        "# PoS-разметка\n",
        "!pip install natasha"
      ],
      "metadata": {
        "colab": {
          "base_uri": "https://localhost:8080/"
        },
        "id": "EilAxuXT1sws",
        "outputId": "e3d00d25-64cd-45d0-d115-d694961eee61"
      },
      "execution_count": null,
      "outputs": [
        {
          "output_type": "stream",
          "name": "stdout",
          "text": [
            "Requirement already satisfied: natasha in /usr/local/lib/python3.7/dist-packages (1.4.0)\n",
            "Requirement already satisfied: pymorphy2 in /usr/local/lib/python3.7/dist-packages (from natasha) (0.9.1)\n",
            "Requirement already satisfied: navec>=0.9.0 in /usr/local/lib/python3.7/dist-packages (from natasha) (0.10.0)\n",
            "Requirement already satisfied: slovnet>=0.3.0 in /usr/local/lib/python3.7/dist-packages (from natasha) (0.5.0)\n",
            "Requirement already satisfied: razdel>=0.5.0 in /usr/local/lib/python3.7/dist-packages (from natasha) (0.5.0)\n",
            "Requirement already satisfied: ipymarkup>=0.8.0 in /usr/local/lib/python3.7/dist-packages (from natasha) (0.9.0)\n",
            "Requirement already satisfied: yargy>=0.14.0 in /usr/local/lib/python3.7/dist-packages (from natasha) (0.15.0)\n",
            "Requirement already satisfied: intervaltree>=3 in /usr/local/lib/python3.7/dist-packages (from ipymarkup>=0.8.0->natasha) (3.1.0)\n",
            "Requirement already satisfied: sortedcontainers<3.0,>=2.0 in /usr/local/lib/python3.7/dist-packages (from intervaltree>=3->ipymarkup>=0.8.0->natasha) (2.4.0)\n",
            "Requirement already satisfied: numpy in /usr/local/lib/python3.7/dist-packages (from navec>=0.9.0->natasha) (1.19.5)\n",
            "Requirement already satisfied: pymorphy2-dicts-ru<3.0,>=2.4 in /usr/local/lib/python3.7/dist-packages (from pymorphy2->natasha) (2.4.417127.4579844)\n",
            "Requirement already satisfied: dawg-python>=0.7.1 in /usr/local/lib/python3.7/dist-packages (from pymorphy2->natasha) (0.7.2)\n",
            "Requirement already satisfied: docopt>=0.6 in /usr/local/lib/python3.7/dist-packages (from pymorphy2->natasha) (0.6.2)\n"
          ]
        }
      ]
    },
    {
      "cell_type": "code",
      "source": [
        "from colorama import Fore, Style # цветной вывод\n",
        "import json # работа с javascript object notation\n",
        "import random # случайное перемешивание\n",
        "\n",
        "from natasha import NewsMorphTagger, NewsEmbedding, Doc, Segmenter #PoS-разметка\n",
        "\n",
        "import re # RegEx для токенизации\n",
        "from collections import defaultdict # построение словаря \n",
        "import numpy as np # работа с массивами\n",
        "import torch # работа с моделями машинного обучения\n",
        "import torch.nn as nn # работа с тензорами\n",
        "\n",
        "from torch.autograd import Variable # для обучения CBOW\n",
        "from torch.optim import SGD # для обучения CBOW\n",
        "import torch.nn.functional as F # для обучения CBOW\n",
        "\n",
        "import copy # сохранить обученную модель\n",
        "from torch.utils.data import DataLoader # для обучения Skip-Gram\n",
        "\n",
        "from sklearn.decomposition import TruncatedSVD # для визуализации \n",
        "import matplotlib.pyplot as plt"
      ],
      "metadata": {
        "id": "VX-45hhkAT_7"
      },
      "execution_count": null,
      "outputs": []
    },
    {
      "cell_type": "markdown",
      "source": [
        "# Загрузка корпуса\n",
        "\n",
        "* [Корпус новостей газеты Московский комсомолец за 2020-2021 года.](https://github.com/vifirsanova/W2V/blob/main/corpus.json) \n",
        "\n",
        "* Собран автором в рамках семинарских занятий.\n",
        "\n",
        "* Корпус загружен на GitHub с помощью терминала git с помощью следующего кода:\n",
        "\n",
        "```\n",
        "git clone git@github.com:vifirsanova/W2V.git\n",
        "cd w2v\n",
        "git add corpus.json\n",
        "git commit -m \"Add file\"\n",
        "git push\n",
        "```\n",
        "\n"
      ],
      "metadata": {
        "id": "9KZrpO2KAdfs"
      }
    },
    {
      "cell_type": "code",
      "source": [
        "# подгружаем корпус из GitHub\n",
        "!wget https://raw.githubusercontent.com/vifirsanova/W2V/main/corpus.json"
      ],
      "metadata": {
        "colab": {
          "base_uri": "https://localhost:8080/"
        },
        "id": "Clf1EiNSAX5k",
        "outputId": "df1473fb-21b1-4957-b8f2-8f1dda46eb67"
      },
      "execution_count": 4,
      "outputs": [
        {
          "output_type": "stream",
          "name": "stdout",
          "text": [
            "--2021-12-19 10:12:47--  https://raw.githubusercontent.com/vifirsanova/W2V/main/corpus.json\n",
            "Resolving raw.githubusercontent.com (raw.githubusercontent.com)... 185.199.108.133, 185.199.111.133, 185.199.109.133, ...\n",
            "Connecting to raw.githubusercontent.com (raw.githubusercontent.com)|185.199.108.133|:443... connected.\n",
            "HTTP request sent, awaiting response... 200 OK\n",
            "Length: 92111843 (88M) [text/plain]\n",
            "Saving to: ‘corpus.json’\n",
            "\n",
            "corpus.json         100%[===================>]  87.84M   184MB/s    in 0.5s    \n",
            "\n",
            "2021-12-19 10:12:49 (184 MB/s) - ‘corpus.json’ saved [92111843/92111843]\n",
            "\n"
          ]
        }
      ]
    },
    {
      "cell_type": "code",
      "source": [
        "# сохраняем корпус в переменную\n",
        "with open('corpus.json', encoding='utf-8', newline='') as json_file:\n",
        "    data = json.load(json_file)"
      ],
      "metadata": {
        "id": "AOw-6FhPAysH"
      },
      "execution_count": 5,
      "outputs": []
    },
    {
      "cell_type": "code",
      "source": [
        "# образец данных корпуса\n",
        "print(f\"{Fore.RED}Образец данных корпуса:\\n\")\n",
        "data['data'][0]"
      ],
      "metadata": {
        "colab": {
          "base_uri": "https://localhost:8080/"
        },
        "id": "YV3Qkx4KECYa",
        "outputId": "2baba37e-e108-4729-83a1-541366eebbae"
      },
      "execution_count": 6,
      "outputs": [
        {
          "output_type": "stream",
          "name": "stdout",
          "text": [
            "\u001b[31mОбразец данных корпуса:\n",
            "\n"
          ]
        },
        {
          "output_type": "execute_result",
          "data": {
            "text/plain": [
              "{'date': '31.03.2020',\n",
              " 'link': 'https://www.mk.ru/social/2020/03/31/minobrnauki-pereneslo-vstupitelnye-ekzameny-v-vuzy-izza-koronavirusa.html',\n",
              " 'rubric': 'Общество',\n",
              " 'text': '\\nВ Минобрнауки РФ приняли решение перенести даты вступительных экзаменов в вузы из-за коронавируса, заявил глава ведомства Валерий Фальков в интервью «Россия 24».\\nОн отметил, что в этом году число бюджетных мест было увеличено на 34 тысячи. Сейчас начался экономический спад, но менять стратегию в министерстве не намерены.\\nРешение об увеличении бюджетных мест в вузах связано с ростом числа выпускников школ. Будет увеличено число мест на педагогическом и медицинском направлениях. Большой запрос на бюджетные места у регионов, подчеркнул Фальков.\\nРанее власти перенесли даты ЕГЭ и ОГЭ.\\nЧитайте также:\\xa0Скворцова похвалила российский препарат от коронавируса\\n\\xa0\\n\\n',\n",
              " 'time': '09:11',\n",
              " 'title': 'Минобрнауки решило перенести вступительные экзамены в вузы из-за коронавируса'}"
            ]
          },
          "metadata": {},
          "execution_count": 6
        }
      ]
    },
    {
      "cell_type": "code",
      "source": [
        "# собираем тексты из корпуса\n",
        "full_dataset = []\n",
        "\n",
        "for elem in data['data']:\n",
        "    full_dataset.append(elem['text'])\n",
        "\n",
        "# случайное перемешивание данных\n",
        "random.shuffle(full_dataset)\n",
        "\n",
        "# деление на обучающую (80% данных) и проверочную (20% данных) выборку\n",
        "TRAIN_VAL_SPLIT = int(len(full_dataset) * 0.8)\n",
        "train = full_dataset[:TRAIN_VAL_SPLIT]\n",
        "val = full_dataset[TRAIN_VAL_SPLIT:]\n",
        "\n",
        "print(f\"{Fore.RED}Образец текста из выборки:{Style.RESET_ALL}\\n\", ''.join(train[0]))\n",
        "print(f\"{Fore.RED}Размер обучающей выборки:{Style.RESET_ALL} {len(train)} новостей, {sum([len(x.split()) for x in train])} слов, {sum([len(x) for x in train])} символов\\\n",
        "\\n{Fore.RED}Размер проверочной выборки:{Style.RESET_ALL} {len(val)} новостей, {sum([len(x.split()) for x in val])} слов, {sum([len(x) for x in val])} символов\")"
      ],
      "metadata": {
        "colab": {
          "base_uri": "https://localhost:8080/"
        },
        "id": "S-P3jY-tEVxT",
        "outputId": "c1c7b184-8639-4b94-a2c3-fc0f509a8b33"
      },
      "execution_count": 7,
      "outputs": [
        {
          "output_type": "stream",
          "name": "stdout",
          "text": [
            "\u001b[31mОбразец текста из выборки:\u001b[0m\n",
            " \n",
            "Врио главы Ненецкого автономного округа Юрий Бездудный заявил, что одной из причин принятия решения об объединении с Архангельской областью стали проблемы бюджета.\n",
            "По словам главы региона, бюджет НАО рассчитан из цены на нефть в $57, в связи с чем под угрозой оказалось выполнение обязательств перед гражданами.\n",
            "\"Выход - по объединению двух экономик\", - заявил он.\n",
            "\n",
            "\n",
            "\u001b[31mРазмер обучающей выборки:\u001b[0m 36736 новостей, 3878736 слов, 37181607 символов\n",
            "\u001b[31mРазмер проверочной выборки:\u001b[0m 9184 новостей, 971272 слов, 9366577 символов\n"
          ]
        }
      ]
    },
    {
      "cell_type": "markdown",
      "source": [
        "# Разметка\n",
        "\n",
        "Для частеречной разметки можно прописать собственный парсер либо использовать готовый. \n",
        "\n",
        "[Образец собственного парсера](https://colab.research.google.com/drive/19ZDb0FR6wO2zA26vYzJMf8xFkFqwBq72?usp=sharing). Работает на базе ConvNet.\n",
        "\n",
        "Здесь для разметки используется библиотека [Natasha](https://github.com/natasha/natasha/tree/61d44032ca10612bd2b37444cdb50077402dd386)."
      ],
      "metadata": {
        "id": "p_A4fQtdho_k"
      }
    },
    {
      "cell_type": "code",
      "source": [
        "# преобразуем тексты из обучающей и проверочной выборок к виду объектов, подходящих для обработки с помощью библиотеки Natasha \n",
        "train_doc, val_doc = [Doc(x) for x in train], [Doc(x) for x in val]\n",
        "print(f\"{Fore.RED}Образец обработанного текста:{Style.RESET_ALL}\", val_doc[0])\n",
        "\n",
        "# инструмент для сегментации текстов\n",
        "segmenter = Segmenter()\n",
        "# сегментация обучающей выборки\n",
        "for x in train_doc:\n",
        "  x.segment(segmenter)\n",
        "# сегментация проверочной выборки\n",
        "for x in val_doc:\n",
        "  x.segment(segmenter)\n",
        "\n",
        "print(f\"{Fore.RED}Образец сегментированного текста:{Style.RESET_ALL}\", val_doc[5].tokens[0])"
      ],
      "metadata": {
        "colab": {
          "base_uri": "https://localhost:8080/"
        },
        "id": "oS5VB4dc0TLQ",
        "outputId": "c824535a-2567-4c71-b6b5-64108ccfcd51"
      },
      "execution_count": null,
      "outputs": [
        {
          "output_type": "stream",
          "name": "stdout",
          "text": [
            "\u001b[31mОбразец обработанного текста:\u001b[0m Doc(text='\\nРоссийская «Партия пенсионеров» произвела расче...)\n",
            "\u001b[31mОбразец сегментированного текста:\u001b[0m DocToken(start=1, stop=16, text='Премьер-министр')\n"
          ]
        }
      ]
    },
    {
      "cell_type": "code",
      "source": [
        "# PoS-разметка\n",
        "morph_tagger = NewsMorphTagger(NewsEmbedding())\n",
        "# разметка обучающей выборки\n",
        "for x in train_doc:\n",
        "  x.tag_morph(morph_tagger)\n",
        "\n",
        "# разметка проверочной выборки\n",
        "for x in val_doc:\n",
        "  x.tag_morph(morph_tagger)\n",
        "\n",
        "print(f\"{Fore.RED}Образец размеченного текста:{Style.RESET_ALL}\", val_doc[5].tokens[0])"
      ],
      "metadata": {
        "colab": {
          "base_uri": "https://localhost:8080/"
        },
        "id": "21SalmLt1Mit",
        "outputId": "05c6dc9b-65e5-44e9-ad73-b2639a681bca"
      },
      "execution_count": null,
      "outputs": [
        {
          "output_type": "stream",
          "name": "stdout",
          "text": [
            "\u001b[31mОбразец размеченного текста:\u001b[0m DocToken(start=1, stop=16, text='Премьер-министр', pos='NOUN', feats=<Anim,Nom,Masc,Sing>)\n"
          ]
        }
      ]
    },
    {
      "cell_type": "code",
      "source": [
        "# сохраним полученные данные для дальнейшего использования\n",
        "# разметка обучающей выборки\n",
        "# создаем словарь, где будут храниться размеченные данные\n",
        "train_corp = {}\n",
        "# для каждого текста обучающей выборки\n",
        "for n in range(len(train_doc)):\n",
        "  # сохраняем в словарь PoS-тег и морфологические характеристики слова\n",
        "  for k in range(len(train_doc[n].tokens)):\n",
        "    train_corp[train_doc[n].tokens[k].text] = [train_doc[n].tokens[k].pos, train_doc[n].tokens[k].feats]\n",
        "\n",
        "# разметка проверочной выборки\n",
        "# создаем словарь, где будут храниться размеченные данные\n",
        "val_corp = {}\n",
        "# для каждого текста проверочной выборки\n",
        "for n in range(len(val_doc)):\n",
        "  # сохраняем в словарь PoS-тег и морфологические характеристики слова\n",
        "  for k in range(len(val_doc[n].tokens)):\n",
        "    val_corp[val_doc[n].tokens[k].text] = [val_doc[n].tokens[k].pos, val_doc[n].tokens[k].feats]\n",
        "\n",
        "print(f\"{Fore.RED}Образец размеченного корпуса:{Style.RESET_ALL}\", list(val_corp.items())[0])\n",
        "print(f\"{Fore.RED}Объем размеченного корпуса обучающей выборки:{Style.RESET_ALL}\", len(train_corp))\n",
        "print(f\"{Fore.RED}Объем размеченного корпуса проверочной выборки:{Style.RESET_ALL}\", len(val_corp))"
      ],
      "metadata": {
        "colab": {
          "base_uri": "https://localhost:8080/"
        },
        "id": "8LXkcQ-lzsSu",
        "outputId": "74eccfa2-7db5-4258-fe23-07d239ab088e"
      },
      "execution_count": null,
      "outputs": [
        {
          "output_type": "stream",
          "name": "stdout",
          "text": [
            "\u001b[31mОбразец размеченного корпуса:\u001b[0m ('Российская', ['ADJ', {'Case': 'Nom', 'Degree': 'Pos', 'Gender': 'Fem', 'Number': 'Sing'}])\n",
            "\u001b[31mОбъем размеченного корпуса обучающей выборки:\u001b[0m 194057\n",
            "\u001b[31mОбъем размеченного корпуса проверочной выборки:\u001b[0m 92561\n"
          ]
        }
      ]
    },
    {
      "cell_type": "code",
      "source": [
        "# сохраним размеченный корпус в отдельный файл, чтобы его можно было использовать повторно\n",
        "with open('train_corp.json', 'w') as f:\n",
        "    json.dump(train_corp, f, ensure_ascii=False)\n",
        "\n",
        "with open('val_corp.json', 'w') as f:\n",
        "    json.dump(val_corp, f, ensure_ascii=False)"
      ],
      "metadata": {
        "id": "_EjGPSXnQUtO"
      },
      "execution_count": null,
      "outputs": []
    },
    {
      "cell_type": "markdown",
      "source": [
        "# Модель Word2Vec"
      ],
      "metadata": {
        "id": "oHU6qsKtK4h8"
      }
    },
    {
      "cell_type": "markdown",
      "source": [
        "## Токенизация"
      ],
      "metadata": {
        "id": "drLRiOo4OEQj"
      }
    },
    {
      "cell_type": "code",
      "source": [
        "# построим токенизатор, который приводит тексты к нижнему регистру и удаляет все символы, кроме букв и цифр\n",
        "def tokenizer(text):\n",
        "    \"\"\"\n",
        "    Токенизатор\n",
        "    :text: текст для токенизации (str)\n",
        "    :return: токенизированный текст (list)\n",
        "    \"\"\"\n",
        "    tokens = re.compile(r'[\\w\\d]+').findall(text.lower())\n",
        "    return [token for token in tokens if len(token)]\n",
        "\n",
        "\n",
        "# функция для токенизации корпуса\n",
        "def tokenize(corpus, tokenizer=tokenizer):\n",
        "    \"\"\"\n",
        "    Токенизация\n",
        "    :corpus: корпус текстов или датасет (list)\n",
        "    :tokenizer: типа токенизатора (func)\n",
        "    :return: токенизированный корпус/датасет (list)\n",
        "    \"\"\"\n",
        "    return [tokenizer(text) for text in corpus]\n",
        "\n",
        "\n",
        "# токенизируем\n",
        "train_tokenized = tokenize(train)\n",
        "val_tokenized = tokenize(val)\n",
        "print(f\"{Fore.RED}Образец токенизированного текста:{Style.RESET_ALL}\\n\", ' '.join(train_tokenized[0]))"
      ],
      "metadata": {
        "id": "Unmv5bPTb0f0",
        "colab": {
          "base_uri": "https://localhost:8080/"
        },
        "outputId": "e250171e-507b-443d-b293-7fbfadd2b7a3"
      },
      "execution_count": 10,
      "outputs": [
        {
          "output_type": "stream",
          "name": "stdout",
          "text": [
            "\u001b[31mОбразец токенизированного текста:\u001b[0m\n",
            " врио главы ненецкого автономного округа юрий бездудный заявил что одной из причин принятия решения об объединении с архангельской областью стали проблемы бюджета по словам главы региона бюджет нао рассчитан из цены на нефть в 57 в связи с чем под угрозой оказалось выполнение обязательств перед гражданами выход по объединению двух экономик заявил он\n"
          ]
        }
      ]
    },
    {
      "cell_type": "markdown",
      "source": [
        "## Построение словаря"
      ],
      "metadata": {
        "id": "cswf_6XSMBbA"
      }
    },
    {
      "cell_type": "code",
      "source": [
        "# загрузка стоп-слов из репозитория\n",
        "!wget https://raw.githubusercontent.com/vifirsanova/W2V/main/swl.txt"
      ],
      "metadata": {
        "colab": {
          "base_uri": "https://localhost:8080/"
        },
        "id": "pXeggC-gLyYd",
        "outputId": "940671df-d949-42e8-906e-fb028cd7947c"
      },
      "execution_count": 11,
      "outputs": [
        {
          "output_type": "stream",
          "name": "stdout",
          "text": [
            "--2021-12-19 10:20:14--  https://raw.githubusercontent.com/vifirsanova/W2V/main/swl.txt\n",
            "Resolving raw.githubusercontent.com (raw.githubusercontent.com)... 185.199.108.133, 185.199.111.133, 185.199.109.133, ...\n",
            "Connecting to raw.githubusercontent.com (raw.githubusercontent.com)|185.199.108.133|:443... connected.\n",
            "HTTP request sent, awaiting response... 200 OK\n",
            "Length: 10814 (11K) [text/plain]\n",
            "Saving to: ‘swl.txt’\n",
            "\n",
            "\rswl.txt               0%[                    ]       0  --.-KB/s               \rswl.txt             100%[===================>]  10.56K  --.-KB/s    in 0s      \n",
            "\n",
            "2021-12-19 10:20:14 (78.0 MB/s) - ‘swl.txt’ saved [10814/10814]\n",
            "\n"
          ]
        }
      ]
    },
    {
      "cell_type": "code",
      "source": [
        "# стоп-слова \n",
        "stop_words = []\n",
        "\n",
        "with open('swl.txt', encoding='utf-8') as f:\n",
        "    for word in f:\n",
        "      stop_words.append(word[:-1])\n",
        "\n",
        "print(f\"{Fore.RED}Образец стоп-слов:{Style.RESET_ALL}\", stop_words[6:13])\n",
        "\n",
        "\n",
        "def build_vocab(data_tokenized, pad_word=None, stop_words=stop_words):\n",
        "    freq_dict = defaultdict(int) # количество словоупотреблений в документах \n",
        "    doc_n = len(data_tokenized) # общее количество документов\n",
        "\n",
        "    # посчитать количество словоупотреблений в документах \n",
        "    for text in data_tokenized:\n",
        "        unique_text_tokens = set(text)\n",
        "        for token in unique_text_tokens:\n",
        "            freq_dict[token] += 1\n",
        "\n",
        "\n",
        "    # удалить стоп-слова\n",
        "    for word in list(freq_dict.keys()):\n",
        "        if word in stop_words:\n",
        "            freq_dict.pop(word)\n",
        "\n",
        "\n",
        "    # удалить уникальные слова\n",
        "    freq_dict = {word: count for word, count in freq_dict.items() if count > 1}\n",
        "\n",
        "    # отсортировать слова по убыванию частоты\n",
        "    sorted_freq_dict = sorted(freq_dict.items(),\n",
        "                                reverse=True,\n",
        "                                key=lambda x: x[1])\n",
        "\n",
        "    # паддинг\n",
        "    padded_freq_dict = [(pad_word, 0)] + sorted_freq_dict\n",
        "    \n",
        "    # обновить нумерацию слов\n",
        "    word2id = {word: i for i, (word, _) in enumerate(padded_freq_dict)}\n",
        "\n",
        "    # преобразуем частотный словарь к виду матриц чисел\n",
        "    word2freq = np.array([count / doc_n for _, count in padded_freq_dict], dtype='float32')\n",
        "\n",
        "    return word2id, word2freq\n",
        "\n",
        "\n",
        "# строим словарь для обучающей выборки\n",
        "vocabulary, word_doc_freq = build_vocab(train_tokenized, pad_word='<PAD>', stop_words=stop_words)\n",
        "\n",
        "print(f\"{Fore.RED}Размер словаря:{Style.RESET_ALL} {len(vocabulary)}\")\n",
        "print(f\"{Fore.RED}Образец словаря{Style.RESET_ALL}\\n\", list(vocabulary.items())[:10])"
      ],
      "metadata": {
        "colab": {
          "base_uri": "https://localhost:8080/"
        },
        "id": "MGSTYzsGNMdZ",
        "outputId": "421df7cd-089d-4ed3-d02c-5096f5edcdbb"
      },
      "execution_count": 17,
      "outputs": [
        {
          "output_type": "stream",
          "name": "stdout",
          "text": [
            "\u001b[31mОбразец стоп-слов:\u001b[0m ['абы', 'авось', 'ага', 'аж', 'аз', 'ай', 'ай-ай-ай']\n",
            "\u001b[31mРазмер словаря:\u001b[0m 85915\n",
            "\u001b[31mОбразец словаря\u001b[0m\n",
            " [('<PAD>', 0), ('этом', 1), ('а', 2), ('россии', 3), ('ранее', 4), ('заявил', 5), ('словам', 6), ('время', 7), ('будет', 8), ('коронавируса', 9)]\n"
          ]
        }
      ]
    },
    {
      "cell_type": "markdown",
      "source": [
        "## Векторизация"
      ],
      "metadata": {
        "id": "eE7sZKkcOF37"
      }
    },
    {
      "cell_type": "code",
      "source": [
        "def texts2ids(data_tokenized, word2id):\n",
        "    return [[word2id[token] for token in text if token in word2id]\n",
        "            for text in data_tokenized]\n",
        "\n",
        "# конвертация\n",
        "train_token_ids = texts2ids(train_tokenized, vocabulary)\n",
        "val_token_ids = texts2ids(val_tokenized, vocabulary)\n",
        "\n",
        "print(f\"{Fore.RED}Образец токенизированного текста{Style.RESET_ALL}\\n\", \n",
        "      ' '.join(train_tokenized[0][:5]))\n",
        "print(f\"{Fore.RED}Образец числовых представлений для этого текста{Style.RESET_ALL}\\n\", \n",
        "      ''.join(str(train_token_ids[0][:3])))\n",
        "n1, n2, n3 = train_token_ids[0][0], train_token_ids[0][1], train_token_ids[0][2]\n",
        "print(f\"{Fore.RED}Расшифровка с помощью словаря{Style.RESET_ALL}\\n\", list(vocabulary.items())[n1], \n",
        "      list(vocabulary.items())[n2], list(vocabulary.items())[n3])"
      ],
      "metadata": {
        "colab": {
          "base_uri": "https://localhost:8080/"
        },
        "id": "L9-oC8_INi3v",
        "outputId": "28dbdeea-e2e3-4eba-e2de-ca6007ee0fc5"
      },
      "execution_count": 18,
      "outputs": [
        {
          "output_type": "stream",
          "name": "stdout",
          "text": [
            "\u001b[31mОбразец токенизированного текста\u001b[0m\n",
            " врио главы ненецкого автономного округа\n",
            "\u001b[31mОбразец числовых представлений для этого текста\u001b[0m\n",
            " [2744, 193, 17939]\n",
            "\u001b[31mРасшифровка с помощью словаря\u001b[0m\n",
            " ('врио', 2744) ('главы', 193) ('ненецкого', 17939)\n"
          ]
        }
      ]
    },
    {
      "cell_type": "markdown",
      "source": [
        "## Паддинг"
      ],
      "metadata": {
        "id": "OySUTQAnOQdo"
      }
    },
    {
      "cell_type": "code",
      "source": [
        "# паддинг последовательностей (текстов):\n",
        "# мы задаем длину n для последовательностей обучающих данных,\n",
        "# обрезаем все тексты, которые превышают эту длину\n",
        "# и заполняем нулями все тексты, длина которых ниже заданной длины\n",
        "\n",
        "class PaddedSequenceDataset():\n",
        "    def __init__(self, data, targets, out_len=100, pad_value=0):\n",
        "        self.data = data\n",
        "        self.targets = targets\n",
        "        self.out_len = out_len\n",
        "        self.pad_value = pad_value\n",
        "\n",
        "    def __len__(self):\n",
        "        return len(self.data)\n",
        "\n",
        "    def ensure_length(self, txt, out_len, pad_value):\n",
        "        if len(txt) < out_len:\n",
        "            txt = list(txt) + [pad_value] * (out_len - len(txt))\n",
        "        else:\n",
        "            txt = txt[:out_len]\n",
        "        return txt\n",
        "\n",
        "    def __getitem__(self, item):\n",
        "        txt = self.data[item]\n",
        "        txt = self.ensure_length(txt, self.out_len, self.pad_value)\n",
        "        txt = torch.tensor(txt, dtype=torch.long)\n",
        "        target = torch.tensor(self.targets[item], dtype=torch.long)\n",
        "\n",
        "        return txt, target\n",
        "\n",
        "\n",
        "# максимальная длина последовательности\n",
        "MAX_SENTENCE_LEN = 50\n",
        "\n",
        "# применить паддинг\n",
        "train_dataset = PaddedSequenceDataset(train_token_ids,\n",
        "                                      np.zeros(len(train_token_ids)),\n",
        "                                      out_len=MAX_SENTENCE_LEN)\n",
        "val_dataset = PaddedSequenceDataset(val_token_ids,\n",
        "                                     np.zeros(len(val_token_ids)),\n",
        "                                     out_len=MAX_SENTENCE_LEN)\n",
        "\n",
        "print(f\"{Fore.RED}Образец числовых представлений для текста из выборки{Style.RESET_ALL}\\n\", \n",
        "      ''.join(str(train_token_ids[0])))\n",
        "print(f\"{Fore.RED}\\nТо же после применения паддинга{Style.RESET_ALL}\\n\", train_dataset[0])"
      ],
      "metadata": {
        "colab": {
          "base_uri": "https://localhost:8080/"
        },
        "id": "uh2HnMYAOKSS",
        "outputId": "01f5d993-6fdd-41f6-c1e4-68bbbaba74f5"
      },
      "execution_count": 21,
      "outputs": [
        {
          "output_type": "stream",
          "name": "stdout",
          "text": [
            "\u001b[31mОбразец числовых представлений для текста из выборки\u001b[0m\n",
            " [2744, 193, 17939, 9979, 1486, 1233, 33681, 5, 357, 1739, 3586, 565, 15736, 7637, 17109, 346, 721, 1816, 6, 193, 400, 3126, 27945, 15105, 852, 1059, 1828, 44, 2770, 504, 4610, 4156, 2811, 2303, 30451, 218, 19926, 5]\n",
            "\u001b[31m\n",
            "То же после применения паддинга\u001b[0m\n",
            " (tensor([ 2744,   193, 17939,  9979,  1486,  1233, 33681,     5,   357,  1739,\n",
            "         3586,   565, 15736,  7637, 17109,   346,   721,  1816,     6,   193,\n",
            "          400,  3126, 27945, 15105,   852,  1059,  1828,    44,  2770,   504,\n",
            "         4610,  4156,  2811,  2303, 30451,   218, 19926,     5,     0,     0,\n",
            "            0,     0,     0,     0,     0,     0,     0,     0,     0,     0]), tensor(0))\n"
          ]
        }
      ]
    },
    {
      "cell_type": "markdown",
      "source": [
        "## Модель. Обучение"
      ],
      "metadata": {
        "id": "YoPV4tywPGV3"
      }
    },
    {
      "cell_type": "markdown",
      "source": [
        "### CBOW\n",
        "\n",
        "Continuous bag of words:\n",
        "* модель получает на вход последовательно наборы слов из текста\n",
        "* порядок слов в контексте не важен\n",
        "\n",
        "Реализация: https://github.com/smafjal/continuous-bag-of-words-pytorch/blob/master/cbow_model_pytorch.py"
      ],
      "metadata": {
        "id": "r15WMK31cdQh"
      }
    },
    {
      "cell_type": "code",
      "source": [
        "# параметры модели\n",
        "CONTEXT_SIZE = 3\n",
        "EMBEDDING_DIM = 100\n",
        "EPOCHS = 10"
      ],
      "metadata": {
        "id": "ZHFOw5W1aZ2u"
      },
      "execution_count": 31,
      "outputs": []
    },
    {
      "cell_type": "code",
      "source": [
        "class CBOW(nn.Module):\n",
        "    \"\"\"\n",
        "        vocab_size: размер обучающего словаря\n",
        "        embedding_size: размер вектора (эмбеддинга)\n",
        "        context_size: размер конекстного окна\n",
        "        word_idx: вектора слова (созданные на шаге векторизации)\n",
        "        vocab: словарь обучающей выборки\n",
        "    \"\"\"\n",
        "    def __init__(self, vocab_size, embedding_size, context_size):\n",
        "        super(CBOW, self).__init__()\n",
        "        self.vocab_size = vocab_size\n",
        "        self.embedding_size = embedding_size\n",
        "        self.context_size = context_size\n",
        "        self.embeddings = nn.Embedding(self.vocab_size, self.embedding_size)\n",
        "        # вектор = context_size*2*embedding_size\n",
        "        self.lin1 = nn.Linear(self.context_size * 2 * self.embedding_size, 512)\n",
        "        self.lin2 = nn.Linear(512, self.vocab_size)\n",
        "    \n",
        "    def forward(self, inp):\n",
        "        out = self.embeddings(inp).view(1, -1)\n",
        "        out = out.view(1, -1)\n",
        "        out = self.lin1(out)\n",
        "        out = F.relu(out)\n",
        "        out = self.lin2(out)\n",
        "        out = F.log_softmax(out, dim=1)\n",
        "        return out\n",
        "    \n",
        "    def get_word_vector(self, word_idx):\n",
        "        word = Variable(torch.LongTensor([word_idx]))\n",
        "        return self.embeddings(word).view(1, -1)\n",
        "\n",
        "def train_cbow(data, vocab, word_to_idx):\n",
        "    cbow = CBOW(len(vocab), EMBEDDING_DIM, CONTEXT_SIZE)\n",
        "    \n",
        "    nll_loss = nn.NLLLoss()  # функция потерь\n",
        "    optimizer = SGD(cbow.parameters(), lr=0.001) # оптимизация \n",
        "        \n",
        "    for epoch in range(EPOCHS):\n",
        "        total_loss = 0\n",
        "        for context, target in data:            \n",
        "            inp_var = Variable(torch.LongTensor([word_to_idx[word] for word in context]))\n",
        "            target_var = Variable(torch.LongTensor([word_to_idx[target]]))\n",
        "                        \n",
        "            cbow.zero_grad()\n",
        "            log_prob = cbow(inp_var)\n",
        "            loss = nll_loss(log_prob, target_var)\n",
        "            loss.backward()\n",
        "            optimizer.step()\n",
        "            total_loss += loss.data\n",
        "        \n",
        "    return cbow\n",
        "\n",
        "def test_cbow(cbow, vocab, word_to_idx):\n",
        "\n",
        "    word_1 = vocab[2]\n",
        "    word_2 = vocab[3]\n",
        "    \n",
        "    word_1_vec = cbow.get_word_vector(word_to_idx[word_1])\n",
        "    word_2_vec = cbow.get_word_vector(word_to_idx[word_2])\n",
        "    \n",
        "    word_similarity = (word_1_vec.dot(word_2_vec) / (torch.norm(word_1_vec) * torch.norm(word_2_vec))).data.numpy()[0]\n",
        "    print(\"Similarity between '{}' & '{}' : {:0.4f}\".format(word_1, word_2, word_similarity))"
      ],
      "metadata": {
        "id": "vLgO_5IWbrS_"
      },
      "execution_count": 38,
      "outputs": []
    },
    {
      "cell_type": "code",
      "source": [
        "# обучение\n",
        "def main():\n",
        "\n",
        "    data = list()\n",
        "    for i in range(CONTEXT_SIZE, len(train_str) - CONTEXT_SIZE):\n",
        "        data_context = list()\n",
        "        for j in range(CONTEXT_SIZE):\n",
        "            data_context.append(train_str[i - CONTEXT_SIZE + j])\n",
        "        \n",
        "        for j in range(1, CONTEXT_SIZE + 1):\n",
        "            data_context.append(train_str[i + j])\n",
        "        data_target = train_str[i]\n",
        "        data.append((data_context, data_target))\n",
        " \n",
        "    unique_vocab = list(set(train_str))\n",
        "    \n",
        "    word_to_idx = {w: i for i, w in enumerate(unique_vocab)}\n",
        "    # обучаем\n",
        "    cbow = train_cbow(data, unique_vocab, word_to_idx)\n",
        "    # тестируем модель\n",
        "    test_cbow(cbow, unique_vocab, word_to_idx)\n",
        "\n",
        "if __name__ == \"__main__\":\n",
        "    main()"
      ],
      "metadata": {
        "id": "5oxKjHsMcOsJ"
      },
      "execution_count": null,
      "outputs": []
    },
    {
      "cell_type": "markdown",
      "source": [
        "### SkipGram\n",
        "\n",
        "* предсказываем соседние слова по центральному слову\n",
        "* Negative Sampling - максимизируем сумму вероятностей двух событий\n",
        "\n",
        "Реализация: https://github.com/Samsung-IT-Academy/stepik-dl-nlp"
      ],
      "metadata": {
        "id": "eWAm-vylltI-"
      }
    },
    {
      "cell_type": "code",
      "source": [
        "# побочная функция создает квадратную матрицу\n",
        "# потребуется для создания маски для обучения модели\n",
        "def make_diag_mask(size, radius):\n",
        "    idxs = torch.arange(size)\n",
        "    abs_idx_diff = (idxs.unsqueeze(0) - idxs.unsqueeze(1)).abs()\n",
        "    mask = ((abs_idx_diff <= radius) & (abs_idx_diff > 0)).float()\n",
        "    return mask\n",
        "\n",
        "\n",
        "# модель Skip Gram Negative Sampling\n",
        "class SkipGramNegativeSampling(nn.Module):\n",
        "    def __init__(self, vocab_size, emb_size, sentence_len, radius=3, negative_samples_n=30):\n",
        "        super().__init__()\n",
        "        self.vocab_size = vocab_size\n",
        "        self.negative_samples_n = negative_samples_n\n",
        "\n",
        "        self.center_emb = nn.Embedding(self.vocab_size, emb_size, padding_idx=0)\n",
        "        self.center_emb.weight.data.uniform_(-1.0 / emb_size, 1.0 / emb_size)\n",
        "        self.center_emb.weight.data[0] = 0\n",
        "\n",
        "        self.context_emb = nn.Embedding(self.vocab_size, emb_size, padding_idx=0)        \n",
        "        self.context_emb.weight.data.uniform_(-1.0 / emb_size, 1.0 / emb_size)\n",
        "        self.context_emb.weight.data[0] = 0\n",
        "\n",
        "        self.positive_sim_mask = make_diag_mask(sentence_len, radius)\n",
        "\n",
        "    def forward(self, sentences):\n",
        "        batch_size = sentences.shape[0]\n",
        "        center_embeddings = self.center_emb(sentences)  # Batch x MaxSentLength x EmbSize\n",
        "\n",
        "        # оценить сходство с соседними словами\n",
        "        positive_context_embs = self.context_emb(sentences).permute(0, 2, 1)  # Batch x EmbSize x MaxSentLength\n",
        "        positive_sims = torch.bmm(center_embeddings, positive_context_embs)  # Batch x MaxSentLength x MaxSentLength\n",
        "        positive_probs = torch.sigmoid(positive_sims)\n",
        "\n",
        "        # увеличить оценку вероятности совместной встречаемости для пар слов\n",
        "        positive_mask = self.positive_sim_mask.to(positive_sims.device)\n",
        "        positive_loss = F.binary_cross_entropy(positive_probs * positive_mask,\n",
        "                                               positive_mask.expand_as(positive_probs))\n",
        "\n",
        "        # выбрать случайные \"отрицательные\" слова\n",
        "        negative_words = torch.randint(1, self.vocab_size,\n",
        "                                       size=(batch_size, self.negative_samples_n),\n",
        "                                       device=sentences.device)  # Batch x NegSamplesN\n",
        "        negative_context_embs = self.context_emb(negative_words).permute(0, 2, 1)  # Batch x EmbSize x NegSamplesN\n",
        "        negative_sims = torch.bmm(center_embeddings, negative_context_embs)  # Batch x MaxSentLength x NegSamplesN\n",
        "        \n",
        "        # уменьшить оценку вероятности совместной встречаемости для пар слов\n",
        "        negative_loss = F.binary_cross_entropy_with_logits(negative_sims,\n",
        "                                                           negative_sims.new_zeros(negative_sims.shape))\n",
        "\n",
        "        return positive_loss + negative_loss\n",
        "\n",
        "\n",
        "# фиктивная функция потерь\n",
        "def no_loss(pred, target):\n",
        "    return pred"
      ],
      "metadata": {
        "id": "duHOCEu0cRJr"
      },
      "execution_count": null,
      "outputs": []
    },
    {
      "cell_type": "code",
      "source": [
        "# обучение\n",
        "\n",
        "# функция для сохранения обученной модели\n",
        "def copy_data_to_device(data, device):\n",
        "    if torch.is_tensor(data):\n",
        "        return data.to(device)\n",
        "    elif isinstance(data, (list, tuple)):\n",
        "        return [copy_data_to_device(elem, device) for elem in data]\n",
        "    raise ValueError()\n",
        "\n",
        "\n",
        "def train_and_eval(model, train_dataset, val_dataset, loss_func,\n",
        "                   lr=1e-4, epochs=10, batch_size=32,\n",
        "                   device=None, early_stopping_patience=10, l2=0,\n",
        "                   max_batches_per_epoch_train=10000,\n",
        "                   max_batches_per_epoch_val=1000,\n",
        "                   data_loader=DataLoader,\n",
        "                   optimizer=None,\n",
        "                   lr_scheduler=None,\n",
        "                   shuffle_train=True,\n",
        "                   dataloader_workers_n=0):\n",
        "    \"\"\"\n",
        "    Цикл для обучения и оценки модели\n",
        "    :model: модель для обучения (torch.nn.Module)\n",
        "    :train_dataset: обучающая выборка (torch.utils.data.Dataset)\n",
        "    :val_dataset: проверочная выборка (torch.utils.data.Dataset)\n",
        "    :loss_func: функция потерь (func)\n",
        "    :lr: скорость обучения (float)\n",
        "    :epochs: количество эпох обучения (int)\n",
        "    :batch_size: размер батча (int)\n",
        "    :device: cuda/cpu (str)\n",
        "    :early_stopping_patience: наибольшее количество эпох, в течение которых допускается\n",
        "        отсутствие улучшения модели (int)\n",
        "    :l2: коэффициент L2-регуляризации (int)\n",
        "    :max_batches_per_epoch_train: максимальное количество итераций на одну эпоху обучения (int)\n",
        "    :max_batches_per_epoch_val: максимальное количество итераций на одну эпоху валидации (int)\n",
        "    :data_loader: преобразует датасет в батчи (torch.utils.data.DataLoader)\n",
        "    :optimizer: оптимизатор (torch.optim.optimizer)\n",
        "    :lr_scheduler: задает скорость обучения (torch.optim.lr_scheduler)\n",
        "    :shuffle_train: перемешать данные в обучающей выборке (Bool)\n",
        "    :return: среднее значение функции потерь на валидации на лучшей эпохе, лучшая модель (tuple)\n",
        "    \"\"\"\n",
        "    device = torch.device(device)\n",
        "    model.to(device)\n",
        "    optimizer = torch.optim.Adam(model.parameters(), lr=lr, weight_decay=l2)\n",
        "    lr_scheduler = lr_scheduler(optimizer)\n",
        "    train_dataloader = data_loader(train_dataset, batch_size=batch_size, shuffle=shuffle_train,\n",
        "                                        num_workers=dataloader_workers_n)\n",
        "    val_dataloader = data_loader(val_dataset, batch_size=batch_size, shuffle=False,\n",
        "                                      num_workers=dataloader_workers_n)\n",
        "\n",
        "    best_val_loss = float('inf')\n",
        "    best_epoch = 0\n",
        "    best_model = copy.deepcopy(model)\n",
        "\n",
        "    for epoch in range(epochs):\n",
        "        try:\n",
        "            print(f\"Эпоха {epoch}\")\n",
        "\n",
        "            model.train()\n",
        "            mean_train_loss = 0\n",
        "            train_batches_n = 0\n",
        "            for batch_i, (batch_x, batch_y) in enumerate(train_dataloader):\n",
        "                if batch_i > max_batches_per_epoch_train:\n",
        "                    break\n",
        "\n",
        "                batch_x = copy_data_to_device(batch_x, device)\n",
        "                batch_y = copy_data_to_device(batch_y, device)\n",
        "\n",
        "                pred = model(batch_x)\n",
        "                loss = loss_func(pred, batch_y)\n",
        "\n",
        "                model.zero_grad()\n",
        "                loss.backward()\n",
        "\n",
        "                optimizer.step()\n",
        "\n",
        "                mean_train_loss += float(loss)\n",
        "                train_batches_n += 1\n",
        "\n",
        "            mean_train_loss /= train_batches_n\n",
        "            print(f\"Mean train loss = {mean_train_loss}\")\n",
        "\n",
        "\n",
        "            # После каждой эпохи качество модели оценивается по проверочной выборке\n",
        "            model.eval()\n",
        "            mean_val_loss = 0\n",
        "            val_batches_n = 0\n",
        "\n",
        "            with torch.no_grad():\n",
        "                for batch_i, (batch_x, batch_y) in enumerate(val_dataloader):\n",
        "                    if batch_i > max_batches_per_epoch_val:\n",
        "                        break\n",
        "\n",
        "                    batch_x = copy_data_to_device(batch_x, device)\n",
        "                    batch_y = copy_data_to_device(batch_y, device)\n",
        "\n",
        "                    pred = model(batch_x)\n",
        "                    loss = loss_func(pred, batch_y)\n",
        "\n",
        "                    mean_val_loss += float(loss)\n",
        "                    val_batches_n += 1\n",
        "\n",
        "            mean_val_loss /= val_batches_n\n",
        "            print(f\"Mean val loss = {mean_val_loss}\")\n",
        "\n",
        "            if mean_val_loss < best_val_loss:\n",
        "                best_epoch = epoch\n",
        "                best_val_loss = mean_val_loss\n",
        "                best_model = copy.deepcopy(model)\n",
        "            elif epoch - best_epoch > early_stopping_patience:\n",
        "                print(\"Early stopping\")\n",
        "                break\n",
        "\n",
        "            if lr_scheduler is not None:\n",
        "                lr_scheduler.step(mean_val_loss)\n",
        "\n",
        "            print()\n",
        "            \n",
        "        except KeyboardInterrupt:\n",
        "            break\n",
        "        except Exception as ex:\n",
        "            print(ex)\n",
        "            break\n",
        "\n",
        "    return best_val_loss, best_model\n",
        "\n",
        "skip = SkipGramNegativeSampling(vocab_size=len(vocabulary), emb_size=100, sentence_len=MAX_SENTENCE_LEN, radius=3, negative_samples_n=30)\n",
        "\n",
        "best_val_loss, best_model = train_and_eval(model=skip,\n",
        "                                           train_dataset,\n",
        "                                           val_dataset,\n",
        "                                           no_loss,\n",
        "                                           lr=1e-2,\n",
        "                                           epochs=5,\n",
        "                                           batch_size=4,\n",
        "                                           device='cpu',\n",
        "                                           early_stopping_patience=5,\n",
        "                                           max_batches_per_epoch_train=2000,\n",
        "                                           max_batches_per_epoch_val=len(val_dataset),\n",
        "                                           lr_scheduler=lambda optim: torch.optim.lr_scheduler.ReduceLROnPlateau(optim, patience=1, verbose=True))"
      ],
      "metadata": {
        "id": "3WSEdeyUnTxy"
      },
      "execution_count": null,
      "outputs": []
    },
    {
      "cell_type": "markdown",
      "source": [
        "## Оценка близости"
      ],
      "metadata": {
        "id": "L4h0RBEuqDq0"
      }
    },
    {
      "cell_type": "markdown",
      "source": [
        "### Косинусное сходство"
      ],
      "metadata": {
        "id": "H1oi7z7sqQet"
      }
    },
    {
      "cell_type": "code",
      "source": [
        "class Word2Vec:\n",
        "    def __init__(self, embeddings, word2id):\n",
        "        self.embeddings = embeddings\n",
        "        self.embeddings /= (np.linalg.norm(self.embeddings, ord=2, axis=-1, keepdims=True) + 1e-4)\n",
        "        self.word2id = word2id\n",
        "        self.id2word = {i: w for w, i in word2id.items()}\n",
        "\n",
        "\n",
        "    def similar(self, word, num=10):\n",
        "        \"\"\"\n",
        "        Функция находит наиболее похожие слова на данное (в основе - функция get_similar)\n",
        "        :word: слово для анализа (str)\n",
        "        :num: количество сходных слов для отображения (int)\n",
        "        :return: num кортежей вида ('аналогичное слово' (str), вероятность сходства (0 <= float <= 1)) (list)\n",
        "        \"\"\"\n",
        "        return self.get_similar(self.get_vector(word), num=num)\n",
        "\n",
        "\n",
        "    def get_similar(self, vec, num=10):\n",
        "        \"\"\"\n",
        "        Функция находит наиболее похожие вектора на данный\n",
        "        :vec: вектор слова для анализа (numpy.ndarray)\n",
        "        :num: количество сходных слов для отображения (int)\n",
        "        :return: num кортежей вида ('аналогичное слово' (str), вероятность сходства (0 <= float <= 1)) (list)\n",
        "        \"\"\"\n",
        "        similarities = (self.embeddings * vec).sum(-1) # сходные слова\n",
        "        top_similar = np.argpartition(-similarities, num, axis=0)[:num]\n",
        "        result = [(self.id2word[i], similarities[i]) for i in top_similar] # список кортежей\n",
        "        result.sort(key=lambda x: -x[1]) # сортировка результата по убыванию\n",
        "        return result\n",
        "\n",
        "\n",
        "    def get_vector(self, word):\n",
        "        if word not in self.word2id:\n",
        "            raise ValueError('Неизвестное слово \"{}\"'.format(word))\n",
        "        return self.embeddings[self.word2id[word]]\n",
        "\n",
        "\n",
        "    def get_vectors(self, *words):\n",
        "        word_ids = [self.word2id[i] for i in words]\n",
        "        vectors = np.stack([self.embeddings[i] for i in word_ids], axis=0)\n",
        "        return vectors\n",
        "\n",
        "\n",
        "cbow_embeddings = Word2Vec(cbow.center_emb.weight.detach().cpu().numpy(), vocabulary)\n",
        "skip_embeddings = Word2Vec(skip.center_emb.weight.detach().cpu().numpy(), vocabulary)"
      ],
      "metadata": {
        "id": "RJaDmBmLqJaw"
      },
      "execution_count": null,
      "outputs": []
    },
    {
      "cell_type": "code",
      "metadata": {
        "colab": {
          "base_uri": "https://localhost:8080/"
        },
        "id": "SgErq7s1xu5W",
        "outputId": "3465832a-4ff0-42a7-8791-a0bdc7cd7775"
      },
      "source": [
        "# косинусное сходство для SkipGram\n",
        "cbow_embeddings.similar('коронавирус')"
      ],
      "execution_count": null,
      "outputs": [
        {
          "output_type": "execute_result",
          "data": {
            "text/plain": [
              "[('коронавирус', 0.99979997),\n",
              " ('covid', 0.6591861),\n",
              " ('19', 0.6286661),\n",
              " ('тест', 0.6116188),\n",
              " ('положительным', 0.6109684),\n",
              " ('диагнозом', 0.57951033),\n",
              " ('заболевания', 0.5698585),\n",
              " ('пневмония', 0.5659813),\n",
              " ('пациентов', 0.55714273),\n",
              " ('типа', 0.5552652)]"
            ]
          },
          "metadata": {
            "tags": []
          },
          "execution_count": 205
        }
      ]
    },
    {
      "cell_type": "code",
      "metadata": {
        "colab": {
          "base_uri": "https://localhost:8080/"
        },
        "outputId": "48742d93-be4a-4458-ec3c-2f01e3fc48fa",
        "id": "XvAS4A4Nx_w1"
      },
      "source": [
        "# косинусное сходство для CBOW\n",
        "cbow.wv.most_similar('коронавирус')"
      ],
      "execution_count": null,
      "outputs": [
        {
          "output_type": "execute_result",
          "data": {
            "text/plain": [
              "[('вирус', 0.4928317070007324),\n",
              " ('инфекцию', 0.4871097505092621),\n",
              " ('подтвердился', 0.4787070155143738),\n",
              " ('тест', 0.4632793664932251),\n",
              " ('грипп', 0.44875916838645935),\n",
              " ('пневмонию', 0.445293128490448),\n",
              " ('теста', 0.4446257948875427),\n",
              " ('положительным', 0.4353533983230591),\n",
              " ('коронавирусную', 0.4322010576725006),\n",
              " ('пцр', 0.4312904477119446)]"
            ]
          },
          "metadata": {},
          "execution_count": 26
        }
      ]
    },
    {
      "cell_type": "markdown",
      "source": [
        "### Евклидово расстояние"
      ],
      "metadata": {
        "id": "eKJuOKijtTVV"
      }
    },
    {
      "cell_type": "code",
      "source": [
        "# примеры для CBOW\n",
        "euc_dist1 = np.linalg.norm(cbow.wv['коронавирус'] - cbow.wv['инфекция'])\n",
        "euc_dist2 = np.linalg.norm(cbow.wv['коронавирус'] - cbow.wv['автомобиль'])\n",
        "print(euc_dist1)\n",
        "print(euc_dist2)"
      ],
      "metadata": {
        "colab": {
          "base_uri": "https://localhost:8080/"
        },
        "id": "zJKRIf9KuWGl",
        "outputId": "37a817ae-75c6-4e20-a83a-25016f157a4d"
      },
      "execution_count": null,
      "outputs": [
        {
          "output_type": "stream",
          "name": "stdout",
          "text": [
            "3.2005703\n",
            "4.9440084\n"
          ]
        }
      ]
    },
    {
      "cell_type": "code",
      "source": [
        "# примеры для SkipGram\n",
        "euc_dist1 = np.linalg.norm(word2vec.wv['коронавирус'] - word2vec.wv['инфекция'])\n",
        "euc_dist2 = np.linalg.norm(word2vec.wv['коронавирус'] - word2vec.wv['автомобиль'])\n",
        "print(euc_dist1)\n",
        "print(euc_dist2)"
      ],
      "metadata": {
        "colab": {
          "base_uri": "https://localhost:8080/"
        },
        "outputId": "8d9f77db-041f-4cef-d751-a4f283767495",
        "id": "MteHrzaqyG4b"
      },
      "execution_count": null,
      "outputs": [
        {
          "output_type": "stream",
          "name": "stdout",
          "text": [
            "6.9063272\n",
            "7.9494586\n"
          ]
        }
      ]
    },
    {
      "cell_type": "markdown",
      "source": [
        "# Коллокаты"
      ],
      "metadata": {
        "id": "sKRhsjV_wvU9"
      }
    },
    {
      "cell_type": "code",
      "source": [
        "# подгружаем размеченные корпуса из GitHub\n",
        "# обучающая выборка\n",
        "!wget https://raw.githubusercontent.com/vifirsanova/W2V/main/train_corp.json\n",
        "# проверочная выборка\n",
        "!wget https://raw.githubusercontent.com/vifirsanova/W2V/main/val_corp.json"
      ],
      "metadata": {
        "colab": {
          "base_uri": "https://localhost:8080/"
        },
        "id": "G7uo4TTcU4bB",
        "outputId": "a15f79bd-7f9e-4417-d2d4-6cfa236e22a0"
      },
      "execution_count": null,
      "outputs": [
        {
          "output_type": "stream",
          "name": "stdout",
          "text": [
            "--2021-12-18 21:21:14--  https://raw.githubusercontent.com/vifirsanova/W2V/main/train_corp.json\n",
            "Resolving raw.githubusercontent.com (raw.githubusercontent.com)... 185.199.108.133, 185.199.109.133, 185.199.110.133, ...\n",
            "Connecting to raw.githubusercontent.com (raw.githubusercontent.com)|185.199.108.133|:443... connected.\n",
            "HTTP request sent, awaiting response... 200 OK\n",
            "Length: 19711543 (19M) [text/plain]\n",
            "Saving to: ‘train_corp.json.1’\n",
            "\n",
            "train_corp.json.1   100%[===================>]  18.80M  --.-KB/s    in 0.1s    \n",
            "\n",
            "2021-12-18 21:21:14 (168 MB/s) - ‘train_corp.json.1’ saved [19711543/19711543]\n",
            "\n",
            "--2021-12-18 21:21:15--  https://raw.githubusercontent.com/vifirsanova/W2V/main/val_corp.json\n",
            "Resolving raw.githubusercontent.com (raw.githubusercontent.com)... 185.199.111.133, 185.199.109.133, 185.199.108.133, ...\n",
            "Connecting to raw.githubusercontent.com (raw.githubusercontent.com)|185.199.111.133|:443... connected.\n",
            "HTTP request sent, awaiting response... 200 OK\n",
            "Length: 9496172 (9.1M) [text/plain]\n",
            "Saving to: ‘val_corp.json.1’\n",
            "\n",
            "val_corp.json.1     100%[===================>]   9.06M  --.-KB/s    in 0.1s    \n",
            "\n",
            "2021-12-18 21:21:15 (81.4 MB/s) - ‘val_corp.json.1’ saved [9496172/9496172]\n",
            "\n"
          ]
        }
      ]
    },
    {
      "cell_type": "code",
      "source": [
        "# сохраняем размеченные корпуса в переменные\n",
        "with open('train_corp.json', encoding='utf-8', newline='') as json_file:\n",
        "    train_data = json.load(json_file)\n",
        "\n",
        "with open('val_corp.json', encoding='utf-8', newline='') as json_file:\n",
        "    val_data = json.load(json_file)"
      ],
      "metadata": {
        "id": "ordnhGmKa5Lw"
      },
      "execution_count": null,
      "outputs": []
    },
    {
      "cell_type": "code",
      "source": [
        "# cbow для существительных\n",
        "for i in range(30):\n",
        "  if list(val_data.items())[i][1][0] == 'NOUN':\n",
        "    try:\n",
        "      print(list(val_data.items())[i][0], cbow.wv.most_similar(list(val_data.items())[i][0])[0][0])\n",
        "    except:\n",
        "      pass"
      ],
      "metadata": {
        "colab": {
          "base_uri": "https://localhost:8080/"
        },
        "id": "ufwfDP0OyQBH",
        "outputId": "a536adbd-ccbd-4044-e009-8269c541defd"
      },
      "execution_count": null,
      "outputs": [
        {
          "output_type": "stream",
          "name": "stdout",
          "text": [
            "пенсионеров малоимущих\n",
            "расчет уточнение\n",
            "пенсии накопительной\n",
            "результате маршрутного\n",
            "издание пишет\n",
            "индексация акцизов\n"
          ]
        }
      ]
    },
    {
      "cell_type": "code",
      "source": [
        "# cbow для глаголов\n",
        "for i in range(50):\n",
        "  if list(val_data.items())[i][1][0] == 'VERB':\n",
        "    try:\n",
        "      print(list(val_data.items())[i][0], cbow.wv.most_similar(list(val_data.items())[i][0])[0][0])\n",
        "    except:\n",
        "      pass"
      ],
      "metadata": {
        "colab": {
          "base_uri": "https://localhost:8080/"
        },
        "id": "c-egiCZ_yYTs",
        "outputId": "6dfc2c52-cf0f-478d-9b6d-bb3d1e30f3ce"
      },
      "execution_count": null,
      "outputs": [
        {
          "output_type": "stream",
          "name": "stdout",
          "text": [
            "произвела фурор\n",
            "сообщила рассказала\n",
            "сообщает передает\n",
            "работающий живущий\n",
            "вышла замуж\n",
            "насчитывается инфицировано\n"
          ]
        }
      ]
    },
    {
      "cell_type": "code",
      "source": [
        "# SkipGram\n",
        "for i in range(30):\n",
        "  if list(val_data.items())[i][1][0] == 'NOUN':\n",
        "    try:\n",
        "      print(list(val_data.items())[i][0], skip.wv.most_similar(list(val_data.items())[i][0])[0][0])\n",
        "    except:\n",
        "      pass"
      ],
      "metadata": {
        "colab": {
          "base_uri": "https://localhost:8080/"
        },
        "outputId": "a33fd6ae-e847-4711-ee7c-1fba194d0f9f",
        "id": "LWP6wiJr3gKU"
      },
      "execution_count": null,
      "outputs": [
        {
          "output_type": "stream",
          "name": "stdout",
          "text": [
            "пенсионеров малоимущих\n",
            "расчет уточнение\n",
            "пенсии пенсионерам\n",
            "результате автоцистерны\n",
            "издание газета\n",
            "индексация начисляться\n"
          ]
        }
      ]
    },
    {
      "cell_type": "code",
      "source": [
        "# SkipGram\n",
        "for i in range(50):\n",
        "  if list(val_data.items())[i][1][0] == 'VERB':\n",
        "    try:\n",
        "      print(list(val_data.items())[i][0], skip.wv.most_similar(list(val_data.items())[i][0])[0][0])\n",
        "    except:\n",
        "      pass"
      ],
      "metadata": {
        "colab": {
          "base_uri": "https://localhost:8080/"
        },
        "outputId": "df34cfe0-7bda-49b8-fb6d-4321b42d93fd",
        "id": "1cuaiPgP3le6"
      },
      "execution_count": null,
      "outputs": [
        {
          "output_type": "stream",
          "name": "stdout",
          "text": [
            "произвела осуществила\n",
            "сообщила заявила\n",
            "сообщает передает\n",
            "работающий молчанов\n",
            "вышла вернулась\n",
            "насчитывается инфицировано\n"
          ]
        }
      ]
    },
    {
      "cell_type": "markdown",
      "source": [
        "# Оценка результатов"
      ],
      "metadata": {
        "id": "JsnYi4i01-X8"
      }
    },
    {
      "cell_type": "code",
      "metadata": {
        "id": "8Lp2Zb8nI35v",
        "colab": {
          "base_uri": "https://localhost:8080/",
          "height": 609
        },
        "outputId": "3dae2032-9916-485f-af9f-a59e31548a48"
      },
      "source": [
        "# SkipGram\n",
        "clustering_words = ['коронавирус', 'covid', 'тест', 'диагноз', 'пневмония', 'заболевания', 'футбол', 'спорт', 'плавание', 'соревнования', 'победа', 'политика', 'президент', 'министр', 'финансы', 'управление', 'глава', 'мвд']\n",
        "skip_vecs = skip.get_vectors(*clustering_words)\n",
        "print(\"Визуализация тематических кластеров векторов слов\")\n",
        "\n",
        "fig, ax = plt.subplots()\n",
        "fig.set_size_inches((10, 10))\n",
        "projections = TruncatedSVD().fit_transform(skip_vecs)\n",
        "x = projections[:, 0]\n",
        "y = projections[:, 1]\n",
        "ax.scatter(x, y)\n",
        "for cur_x, cur_y, cur_label in zip(x, y, clustering_words):\n",
        "    ax.annotate(cur_label, (cur_x, cur_y))"
      ],
      "execution_count": null,
      "outputs": [
        {
          "output_type": "stream",
          "text": [
            "Визуализация тематических кластеров векторов слов\n"
          ],
          "name": "stdout"
        },
        {
          "output_type": "display_data",
          "data": {
            "image/png": "[encoded data removed]",
            "text/plain": [
              "<Figure size 720x720 with 1 Axes>"
            ]
          },
          "metadata": {
            "tags": [],
            "needs_background": "light"
          }
        }
      ]
    },
    {
      "cell_type": "code",
      "metadata": {
        "id": "WGh-gpQmJkq-",
        "colab": {
          "base_uri": "https://localhost:8080/",
          "height": 611
        },
        "outputId": "d8c5b871-5a95-42cf-8298-deee64a43b24"
      },
      "source": [
        "# CBOW\n",
        "cbow_vecs = cbow.get_vectors(*clustering_words)\n",
        "print(\"Визуализация тематических кластеров векторов слов\")\n",
        "\n",
        "fig, ax = plt.subplots()\n",
        "fig.set_size_inches((10, 10))\n",
        "projections = TruncatedSVD().fit_transform(cbow_vecs)\n",
        "x = projections[:, 0]\n",
        "y = projections[:, 1]\n",
        "ax.scatter(x, y)\n",
        "for cur_x, cur_y, cur_label in zip(x, y, clustering_words):\n",
        "    ax.annotate(cur_label, (cur_x, cur_y))"
      ],
      "execution_count": null,
      "outputs": [
        {
          "output_type": "stream",
          "name": "stdout",
          "text": [
            "Визуализация тематических кластеров векторов слов\n"
          ]
        },
        {
          "output_type": "display_data",
          "data": {
            "image/png": "[encoded data removed]",
            "text/plain": [
              "<Figure size 720x720 with 1 Axes>"
            ]
          },
          "metadata": {
            "needs_background": "light"
          }
        }
      ]
    }
  ]
}