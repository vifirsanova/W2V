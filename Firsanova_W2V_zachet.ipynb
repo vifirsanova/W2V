{
  "nbformat": 4,
  "nbformat_minor": 0,
  "metadata": {
    "colab": {
      "name": "Firsanova_W2V_zachet.ipynb",
      "provenance": [],
      "collapsed_sections": [],
      "authorship_tag": "ABX9TyNc33CSBWwN4+SV5L34iePw",
      "include_colab_link": true
    },
    "kernelspec": {
      "name": "python3",
      "display_name": "Python 3"
    },
    "language_info": {
      "name": "python"
    }
  },
  "cells": [
    {
      "cell_type": "markdown",
      "metadata": {
        "id": "view-in-github",
        "colab_type": "text"
      },
      "source": [
        "<a href=\"https://colab.research.google.com/github/vifirsanova/W2V/blob/main/Firsanova_W2V_zachet.ipynb\" target=\"_parent\"><img src=\"https://colab.research.google.com/assets/colab-badge.svg\" alt=\"Open In Colab\"/></a>"
      ]
    },
    {
      "cell_type": "markdown",
      "source": [
        "Автор: [Виктория Фирсанова](https://github.com/vifirsanova)"
      ],
      "metadata": {
        "id": "0mRvp1EcAOMz"
      }
    },
    {
      "cell_type": "markdown",
      "source": [
        "# Загрузка библиотек"
      ],
      "metadata": {
        "id": "nCRdNrpv_fHY"
      }
    },
    {
      "cell_type": "code",
      "execution_count": 1,
      "metadata": {
        "colab": {
          "base_uri": "https://localhost:8080/"
        },
        "id": "BSv7ijDW_Xgq",
        "outputId": "baeb4679-0c14-46d5-cce6-bd4d44bc71b1"
      },
      "outputs": [
        {
          "output_type": "stream",
          "name": "stdout",
          "text": [
            "Collecting colorama\n",
            "  Downloading colorama-0.4.4-py2.py3-none-any.whl (16 kB)\n",
            "Installing collected packages: colorama\n",
            "Successfully installed colorama-0.4.4\n"
          ]
        }
      ],
      "source": [
        "# библиотека для цветного вывода\n",
        "!pip install colorama"
      ]
    },
    {
      "cell_type": "code",
      "source": [
        "# PoS-разметка\n",
        "!pip install natasha"
      ],
      "metadata": {
        "colab": {
          "base_uri": "https://localhost:8080/"
        },
        "id": "EilAxuXT1sws",
        "outputId": "e3d00d25-64cd-45d0-d115-d694961eee61"
      },
      "execution_count": 2,
      "outputs": [
        {
          "output_type": "stream",
          "name": "stdout",
          "text": [
            "Requirement already satisfied: natasha in /usr/local/lib/python3.7/dist-packages (1.4.0)\n",
            "Requirement already satisfied: pymorphy2 in /usr/local/lib/python3.7/dist-packages (from natasha) (0.9.1)\n",
            "Requirement already satisfied: navec>=0.9.0 in /usr/local/lib/python3.7/dist-packages (from natasha) (0.10.0)\n",
            "Requirement already satisfied: slovnet>=0.3.0 in /usr/local/lib/python3.7/dist-packages (from natasha) (0.5.0)\n",
            "Requirement already satisfied: razdel>=0.5.0 in /usr/local/lib/python3.7/dist-packages (from natasha) (0.5.0)\n",
            "Requirement already satisfied: ipymarkup>=0.8.0 in /usr/local/lib/python3.7/dist-packages (from natasha) (0.9.0)\n",
            "Requirement already satisfied: yargy>=0.14.0 in /usr/local/lib/python3.7/dist-packages (from natasha) (0.15.0)\n",
            "Requirement already satisfied: intervaltree>=3 in /usr/local/lib/python3.7/dist-packages (from ipymarkup>=0.8.0->natasha) (3.1.0)\n",
            "Requirement already satisfied: sortedcontainers<3.0,>=2.0 in /usr/local/lib/python3.7/dist-packages (from intervaltree>=3->ipymarkup>=0.8.0->natasha) (2.4.0)\n",
            "Requirement already satisfied: numpy in /usr/local/lib/python3.7/dist-packages (from navec>=0.9.0->natasha) (1.19.5)\n",
            "Requirement already satisfied: pymorphy2-dicts-ru<3.0,>=2.4 in /usr/local/lib/python3.7/dist-packages (from pymorphy2->natasha) (2.4.417127.4579844)\n",
            "Requirement already satisfied: dawg-python>=0.7.1 in /usr/local/lib/python3.7/dist-packages (from pymorphy2->natasha) (0.7.2)\n",
            "Requirement already satisfied: docopt>=0.6 in /usr/local/lib/python3.7/dist-packages (from pymorphy2->natasha) (0.6.2)\n"
          ]
        }
      ]
    },
    {
      "cell_type": "code",
      "source": [
        "from colorama import Fore, Style # цветной вывод\n",
        "import json # работа с javascript object notation\n",
        "import random # случайное перемешивание\n",
        "\n",
        "from natasha import NewsMorphTagger, NewsEmbedding, Doc, Segmenter #PoS-разметка"
      ],
      "metadata": {
        "id": "VX-45hhkAT_7"
      },
      "execution_count": 3,
      "outputs": []
    },
    {
      "cell_type": "code",
      "source": [
        ""
      ],
      "metadata": {
        "id": "muSPa7PLGLtB"
      },
      "execution_count": null,
      "outputs": []
    },
    {
      "cell_type": "markdown",
      "source": [
        "# Загрузка корпуса\n",
        "\n",
        "* [Корпус новостей газеты Московский комсомолец за 2020-2021 года.](https://github.com/vifirsanova/W2V/blob/main/corpus.json) \n",
        "\n",
        "* Собран автором в рамках семинарских занятий.\n",
        "\n",
        "* Корпус загружен на GitHub с помощью терминала git с помощью следующего кода:\n",
        "\n",
        "```\n",
        "git clone git@github.com:vifirsanova/W2V.git\n",
        "cd w2v\n",
        "git add corpus.json\n",
        "git commit -m \"Add file\"\n",
        "git push\n",
        "```\n",
        "\n"
      ],
      "metadata": {
        "id": "9KZrpO2KAdfs"
      }
    },
    {
      "cell_type": "code",
      "source": [
        "# подгружаем корпус из GitHub\n",
        "!wget https://raw.githubusercontent.com/vifirsanova/W2V/main/corpus.json"
      ],
      "metadata": {
        "colab": {
          "base_uri": "https://localhost:8080/"
        },
        "id": "Clf1EiNSAX5k",
        "outputId": "949ea6ba-4b45-4f4a-f0d7-e581746ed9b9"
      },
      "execution_count": 4,
      "outputs": [
        {
          "output_type": "stream",
          "name": "stdout",
          "text": [
            "--2021-12-18 18:39:36--  https://raw.githubusercontent.com/vifirsanova/W2V/main/corpus.json\n",
            "Resolving raw.githubusercontent.com (raw.githubusercontent.com)... 185.199.109.133, 185.199.108.133, 185.199.110.133, ...\n",
            "Connecting to raw.githubusercontent.com (raw.githubusercontent.com)|185.199.109.133|:443... connected.\n",
            "HTTP request sent, awaiting response... 200 OK\n",
            "Length: 92111843 (88M) [text/plain]\n",
            "Saving to: ‘corpus.json’\n",
            "\n",
            "corpus.json         100%[===================>]  87.84M   215MB/s    in 0.4s    \n",
            "\n",
            "2021-12-18 18:39:39 (215 MB/s) - ‘corpus.json’ saved [92111843/92111843]\n",
            "\n"
          ]
        }
      ]
    },
    {
      "cell_type": "code",
      "source": [
        "# сохраняем корпус в переменную\n",
        "with open('corpus.json', encoding='utf-8', newline='') as json_file:\n",
        "    data = json.load(json_file)"
      ],
      "metadata": {
        "id": "AOw-6FhPAysH"
      },
      "execution_count": 5,
      "outputs": []
    },
    {
      "cell_type": "code",
      "source": [
        "# образец данных корпуса\n",
        "print(f\"{Fore.RED}Образец данных корпуса:\\n\")\n",
        "data['data'][0]"
      ],
      "metadata": {
        "colab": {
          "base_uri": "https://localhost:8080/"
        },
        "id": "YV3Qkx4KECYa",
        "outputId": "db887237-8820-4ddf-e229-657a538b4466"
      },
      "execution_count": 6,
      "outputs": [
        {
          "output_type": "stream",
          "name": "stdout",
          "text": [
            "\u001b[31mОбразец данных корпуса:\n",
            "\n"
          ]
        },
        {
          "output_type": "execute_result",
          "data": {
            "text/plain": [
              "{'date': '31.03.2020',\n",
              " 'link': 'https://www.mk.ru/social/2020/03/31/minobrnauki-pereneslo-vstupitelnye-ekzameny-v-vuzy-izza-koronavirusa.html',\n",
              " 'rubric': 'Общество',\n",
              " 'text': '\\nВ Минобрнауки РФ приняли решение перенести даты вступительных экзаменов в вузы из-за коронавируса, заявил глава ведомства Валерий Фальков в интервью «Россия 24».\\nОн отметил, что в этом году число бюджетных мест было увеличено на 34 тысячи. Сейчас начался экономический спад, но менять стратегию в министерстве не намерены.\\nРешение об увеличении бюджетных мест в вузах связано с ростом числа выпускников школ. Будет увеличено число мест на педагогическом и медицинском направлениях. Большой запрос на бюджетные места у регионов, подчеркнул Фальков.\\nРанее власти перенесли даты ЕГЭ и ОГЭ.\\nЧитайте также:\\xa0Скворцова похвалила российский препарат от коронавируса\\n\\xa0\\n\\n',\n",
              " 'time': '09:11',\n",
              " 'title': 'Минобрнауки решило перенести вступительные экзамены в вузы из-за коронавируса'}"
            ]
          },
          "metadata": {},
          "execution_count": 6
        }
      ]
    },
    {
      "cell_type": "code",
      "source": [
        "# собираем тексты из корпуса\n",
        "full_dataset = []\n",
        "\n",
        "for elem in data['data']:\n",
        "    full_dataset.append(elem['text'])\n",
        "\n",
        "# случайное перемешивание данных\n",
        "random.shuffle(full_dataset)\n",
        "\n",
        "# деление на обучающую (80% данных) и проверочную (20% данных) выборку\n",
        "TRAIN_VAL_SPLIT = int(len(full_dataset) * 0.8)\n",
        "train = full_dataset[:TRAIN_VAL_SPLIT]\n",
        "val = full_dataset[TRAIN_VAL_SPLIT:]\n",
        "\n",
        "print(f\"{Fore.RED}Образец текста из выборки:{Style.RESET_ALL}\\n\", ''.join(train[0]))\n",
        "print(f\"{Fore.RED}Размер обучающей выборки:{Style.RESET_ALL} {len(train)} новостей, {sum([len(x.split()) for x in train])} слов, {sum([len(x) for x in train])} символов\\\n",
        "\\n{Fore.RED}Размер проверочной выборки:{Style.RESET_ALL} {len(val)} новостей, {sum([len(x.split()) for x in val])} слов, {sum([len(x) for x in val])} символов\")"
      ],
      "metadata": {
        "colab": {
          "base_uri": "https://localhost:8080/"
        },
        "id": "S-P3jY-tEVxT",
        "outputId": "8bdafe42-0f68-411c-eaf1-17ad43f47817"
      },
      "execution_count": 7,
      "outputs": [
        {
          "output_type": "stream",
          "name": "stdout",
          "text": [
            "\u001b[31mОбразец текста из выборки:\u001b[0m\n",
            " \n",
            "Исполнительный директор по перспективным программам и науке \"Роскосмоса\" Александр Блошенко заявил, что госкорпорация отказалась от участия США в проекте по запуску на Венеру межпланетной станции \"Венера-Д\".\n",
            "Также он отметил, что обнаружение биомаркеров в атмосфере соседней с Землей планеты не может считаться объективным доказательством наличия жизни там. Достоверные научные данные могут быть получены только при контактном исследовании планеты.\n",
            "Между тем ближайшая миссия на Венеру запланирована на 2027-2029 годы. Проект пока не получил финансирования с российской стороны. При этом ученые просят на реализацию российской части проекта более 17 миллиардов рублей на ближайшие 10 лет.\n",
            "\n",
            "\n",
            "\u001b[31mРазмер обучающей выборки:\u001b[0m 36736 новостей, 3884868 слов, 37325192 символов\n",
            "\u001b[31mРазмер проверочной выборки:\u001b[0m 9184 новостей, 965140 слов, 9222992 символов\n"
          ]
        }
      ]
    },
    {
      "cell_type": "markdown",
      "source": [
        "# Разметка\n",
        "\n",
        "Для частеречной разметки можно прописать собственный парсер либо использовать готовый. \n",
        "\n",
        "[Образец собственного парсера](https://colab.research.google.com/drive/19ZDb0FR6wO2zA26vYzJMf8xFkFqwBq72?usp=sharing). Работает на базе ConvNet.\n",
        "\n",
        "Здесь для разметки используется библиотека [Natasha](https://github.com/natasha/natasha/tree/61d44032ca10612bd2b37444cdb50077402dd386)."
      ],
      "metadata": {
        "id": "p_A4fQtdho_k"
      }
    },
    {
      "cell_type": "code",
      "source": [
        "# преобразуем тексты из обучающей и проверочной выборок к виду объектов, подходящих для обработки с помощью библиотеки Natasha \n",
        "train_doc, val_doc = [Doc(x) for x in train], [Doc(x) for x in val]\n",
        "print(f\"{Fore.RED}Образец обработанного текста:{Style.RESET_ALL}\", val_doc[0])\n",
        "\n",
        "# инструмент для сегментации текстов\n",
        "segmenter = Segmenter()\n",
        "# сегментация обучающей выборки\n",
        "for x in train_doc:\n",
        "  x.segment(segmenter)\n",
        "# сегментация проверочной выборки\n",
        "for x in val_doc:\n",
        "  x.segment(segmenter)\n",
        "\n",
        "print(f\"{Fore.RED}Образец сегментированного текста:{Style.RESET_ALL}\", val_doc[5].tokens[0])"
      ],
      "metadata": {
        "colab": {
          "base_uri": "https://localhost:8080/"
        },
        "id": "oS5VB4dc0TLQ",
        "outputId": "c824535a-2567-4c71-b6b5-64108ccfcd51"
      },
      "execution_count": 49,
      "outputs": [
        {
          "output_type": "stream",
          "name": "stdout",
          "text": [
            "\u001b[31mОбразец обработанного текста:\u001b[0m Doc(text='\\nРоссийская «Партия пенсионеров» произвела расче...)\n",
            "\u001b[31mОбразец сегментированного текста:\u001b[0m DocToken(start=1, stop=16, text='Премьер-министр')\n"
          ]
        }
      ]
    },
    {
      "cell_type": "code",
      "source": [
        "# PoS-разметка\n",
        "morph_tagger = NewsMorphTagger(NewsEmbedding())\n",
        "# разметка обучающей выборки\n",
        "for x in train_doc:\n",
        "  x.tag_morph(morph_tagger)\n",
        "\n",
        "# разметка проверочной выборки\n",
        "for x in val_doc:\n",
        "  x.tag_morph(morph_tagger)\n",
        "\n",
        "print(f\"{Fore.RED}Образец размеченного текста:{Style.RESET_ALL}\", val_doc[5].tokens[0])"
      ],
      "metadata": {
        "colab": {
          "base_uri": "https://localhost:8080/"
        },
        "id": "21SalmLt1Mit",
        "outputId": "05c6dc9b-65e5-44e9-ad73-b2639a681bca"
      },
      "execution_count": 61,
      "outputs": [
        {
          "output_type": "stream",
          "name": "stdout",
          "text": [
            "\u001b[31mОбразец размеченного текста:\u001b[0m DocToken(start=1, stop=16, text='Премьер-министр', pos='NOUN', feats=<Anim,Nom,Masc,Sing>)\n"
          ]
        }
      ]
    },
    {
      "cell_type": "code",
      "source": [
        "# сохраним полученные данные для дальнейшего использования\n",
        "# разметка обучающей выборки\n",
        "# создаем словарь, где будут храниться размеченные данные\n",
        "train_corp = {}\n",
        "# для каждого текста обучающей выборки\n",
        "for n in range(len(train_doc)):\n",
        "  # сохраняем в словарь PoS-тег и морфологические характеристики слова\n",
        "  for k in range(len(train_doc[n].tokens)):\n",
        "    train_corp[train_doc[n].tokens[k].text] = [train_doc[n].tokens[k].pos, train_doc[n].tokens[k].feats]\n",
        "\n",
        "# разметка проверочной выборки\n",
        "# создаем словарь, где будут храниться размеченные данные\n",
        "val_corp = {}\n",
        "# для каждого текста проверочной выборки\n",
        "for n in range(len(val_doc)):\n",
        "  # сохраняем в словарь PoS-тег и морфологические характеристики слова\n",
        "  for k in range(len(val_doc[n].tokens)):\n",
        "    val_corp[val_doc[n].tokens[k].text] = [val_doc[n].tokens[k].pos, val_doc[n].tokens[k].feats]\n",
        "\n",
        "print(f\"{Fore.RED}Образец размеченного корпуса:{Style.RESET_ALL}\", list(val_corp.items())[0])\n",
        "print(f\"{Fore.RED}Объем размеченного корпуса обучающей выборки:{Style.RESET_ALL}\", len(train_corp))\n",
        "print(f\"{Fore.RED}Объем размеченного корпуса проверочной выборки:{Style.RESET_ALL}\", len(val_corp))"
      ],
      "metadata": {
        "colab": {
          "base_uri": "https://localhost:8080/"
        },
        "id": "8LXkcQ-lzsSu",
        "outputId": "74eccfa2-7db5-4258-fe23-07d239ab088e"
      },
      "execution_count": 99,
      "outputs": [
        {
          "output_type": "stream",
          "name": "stdout",
          "text": [
            "\u001b[31mОбразец размеченного корпуса:\u001b[0m ('Российская', ['ADJ', {'Case': 'Nom', 'Degree': 'Pos', 'Gender': 'Fem', 'Number': 'Sing'}])\n",
            "\u001b[31mОбъем размеченного корпуса обучающей выборки:\u001b[0m 194057\n",
            "\u001b[31mОбъем размеченного корпуса проверочной выборки:\u001b[0m 92561\n"
          ]
        }
      ]
    },
    {
      "cell_type": "code",
      "source": [
        "# сохраним размеченный корпус в отдельный файл, чтобы его можно было использовать повторно\n",
        "with open('train_corp.json', 'w') as f:\n",
        "    json.dump(train_corp, f, ensure_ascii=False)\n",
        "\n",
        "with open('val_corp.json', 'w') as f:\n",
        "    json.dump(val_corp, f, ensure_ascii=False)"
      ],
      "metadata": {
        "id": "_EjGPSXnQUtO"
      },
      "execution_count": 104,
      "outputs": []
    },
    {
      "cell_type": "code",
      "source": [
        ""
      ],
      "metadata": {
        "id": "G7uo4TTcU4bB"
      },
      "execution_count": null,
      "outputs": []
    }
  ]
}